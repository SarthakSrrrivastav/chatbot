{
 "cells": [
  {
   "cell_type": "code",
   "execution_count": 1,
   "id": "666ff9cc",
   "metadata": {},
   "outputs": [],
   "source": [
    "import nltk\n",
    "import random\n",
    "import string\n",
    "import warnings\n",
    "warnings.filterwarnings('ignore')"
   ]
  },
  {
   "cell_type": "code",
   "execution_count": 3,
   "id": "a02da684",
   "metadata": {},
   "outputs": [],
   "source": [
    "f=open('chatbot.txt','r',errors='ignore')"
   ]
  },
  {
   "cell_type": "code",
   "execution_count": 4,
   "id": "5e8d724c",
   "metadata": {},
   "outputs": [],
   "source": [
    "raw=f.read()\n",
    "raw=raw.lower()"
   ]
  },
  {
   "cell_type": "code",
   "execution_count": 5,
   "id": "ea1dca5f",
   "metadata": {},
   "outputs": [],
   "source": [
    "sent_tokens=nltk.sent_tokenize(raw)\n",
    "word_tokens=nltk.word_tokenize(raw)"
   ]
  },
  {
   "cell_type": "code",
   "execution_count": 8,
   "id": "d2de8236",
   "metadata": {},
   "outputs": [],
   "source": [
    "sentToken=sent_tokens[:4] #printing first 4 sentence\n",
    "#print(sentToken)"
   ]
  },
  {
   "cell_type": "code",
   "execution_count": 9,
   "id": "598fe3c5",
   "metadata": {},
   "outputs": [],
   "source": [
    "wordToken=word_tokens[:4] #printing first 4 word\n",
    "#print(wordToken)"
   ]
  },
  {
   "cell_type": "markdown",
   "id": "ab39bf3b",
   "metadata": {},
   "source": [
    "# PREPROCESSING"
   ]
  },
  {
   "cell_type": "code",
   "execution_count": 12,
   "id": "2da19f2d",
   "metadata": {},
   "outputs": [],
   "source": [
    "from nltk.stem import PorterStemmer\n",
    "from nltk.corpus import stopwords\n",
    "from nltk.stem import WordNetLemmatizer"
   ]
  },
  {
   "cell_type": "code",
   "execution_count": 13,
   "id": "609da6e2",
   "metadata": {},
   "outputs": [],
   "source": [
    "lemmer=nltk.stem.WordNetLemmatizer()"
   ]
  },
  {
   "cell_type": "code",
   "execution_count": 15,
   "id": "29bf2a1b",
   "metadata": {},
   "outputs": [],
   "source": [
    "def LemTokens(tokens): # in this token will be user input and lem token fun will convert each token into some meaningful word\n",
    "    return [lemmer.lemmatize(token) for token in tokens]\n",
    "remove_punct_dict=dict((ord(punct),None) for punct in string.punctuation) # this will remove all puntuation like colon semicoln fullstop and ord fun"
   ]
  },
  {
   "cell_type": "code",
   "execution_count": 16,
   "id": "ee709d07",
   "metadata": {},
   "outputs": [],
   "source": [
    "def LeNormalize(text):\n",
    "    return LemTokens(nltk.word_tokenize(text.lower().translate(remove_punct_dict)))"
   ]
  },
  {
   "cell_type": "code",
   "execution_count": 17,
   "id": "96bc8453",
   "metadata": {},
   "outputs": [],
   "source": [
    "# GREETINGS\n",
    "\n",
    "GREETING_INPUT=(\"hello\",\"hi\",\"greetings\",\"sup\",\"what's up\")\n",
    "GREETING_RESPONCE=[\"hi\",\"hey\",\"nods\",\"hi there\",\"hello\"]"
   ]
  },
  {
   "cell_type": "code",
   "execution_count": 26,
   "id": "0bc509f2",
   "metadata": {},
   "outputs": [],
   "source": [
    "def greeting(sentence):\n",
    "     for word in sentence.split():\n",
    "            if word.lower() in GREETING_INPUT:\n",
    "                return random.choice(GREETING_RESPONCE)\n",
    "            \n",
    "            \n",
    "# we split sentence into word and if that word present in the greeting input then it will return randon greeting responce            "
   ]
  },
  {
   "cell_type": "code",
   "execution_count": 27,
   "id": "d7e400b3",
   "metadata": {},
   "outputs": [],
   "source": [
    "# VECTORIZER\n",
    "\n",
    "from sklearn.feature_extraction.text import TfidfVectorizer\n",
    "from sklearn.metrics.pairwise import cosine_similarity\n"
   ]
  },
  {
   "cell_type": "code",
   "execution_count": 28,
   "id": "c1b1a26b",
   "metadata": {},
   "outputs": [],
   "source": [
    "def responce(user_responce):\n",
    "    chatbot_responce=''\n",
    "    sent_tokens.append(user_responce)\n",
    "    TfidfVec=TfidfVectorizer(tokenizer=LemNormalize,stop_words='english')\n",
    "    tfidf=TfidfVec.fit_transform(sent_tokens)\n",
    "    vals=cosine_similarity(tfidf[-1],tfidf)\n",
    "    idx=vals.argsort()[0][-2]\n",
    "    flat=vals.flatten()\n",
    "    flat.sort()\n",
    "    req_tfidf=flat[-2]\n",
    "    if(req_tfidf==0):\n",
    "        chatbot_responce=chatbot_responce+\"I am soory! I don't understand\"\n",
    "        return chatbot_responce\n",
    "    \n",
    "    else:\n",
    "        chatbot_responce=chatbot_responce+sent_tokens[idx]\n",
    "        return chatbot_responce\n"
   ]
  },
  {
   "cell_type": "code",
   "execution_count": 29,
   "id": "31ac8535",
   "metadata": {},
   "outputs": [
    {
     "name": "stdout",
     "output_type": "stream",
     "text": [
      "Hello My name is Sarthak. I will answer your queries\n",
      "hi\n"
     ]
    },
    {
     "ename": "NameError",
     "evalue": "name 'GREETING_RESPONCE' is not defined",
     "output_type": "error",
     "traceback": [
      "\u001b[1;31m---------------------------------------------------------------------------\u001b[0m",
      "\u001b[1;31mNameError\u001b[0m                                 Traceback (most recent call last)",
      "\u001b[1;32m~\\AppData\\Local\\Temp/ipykernel_16884/2493837892.py\u001b[0m in \u001b[0;36m<module>\u001b[1;34m\u001b[0m\n\u001b[0;32m     10\u001b[0m                     \u001b[0mprint\u001b[0m\u001b[1;33m(\u001b[0m\u001b[1;34m\"Sarthak : You'r Welcome\"\u001b[0m\u001b[1;33m)\u001b[0m\u001b[1;33m\u001b[0m\u001b[1;33m\u001b[0m\u001b[0m\n\u001b[0;32m     11\u001b[0m                 \u001b[1;32melse\u001b[0m\u001b[1;33m:\u001b[0m\u001b[1;33m\u001b[0m\u001b[1;33m\u001b[0m\u001b[0m\n\u001b[1;32m---> 12\u001b[1;33m                     \u001b[1;32mif\u001b[0m\u001b[1;33m(\u001b[0m\u001b[0mgreeting\u001b[0m\u001b[1;33m(\u001b[0m\u001b[0muser_responce\u001b[0m\u001b[1;33m)\u001b[0m\u001b[1;33m!=\u001b[0m\u001b[1;32mNone\u001b[0m\u001b[1;33m)\u001b[0m\u001b[1;33m:\u001b[0m\u001b[1;33m\u001b[0m\u001b[1;33m\u001b[0m\u001b[0m\n\u001b[0m\u001b[0;32m     13\u001b[0m                         \u001b[0mprint\u001b[0m\u001b[1;33m(\u001b[0m\u001b[1;34m\"Sarthak : \"\u001b[0m\u001b[1;33m+\u001b[0m\u001b[0mgreeting\u001b[0m\u001b[1;33m(\u001b[0m\u001b[0muser_responce\u001b[0m\u001b[1;33m)\u001b[0m\u001b[1;33m)\u001b[0m\u001b[1;33m\u001b[0m\u001b[1;33m\u001b[0m\u001b[0m\n\u001b[0;32m     14\u001b[0m                     \u001b[1;32melse\u001b[0m\u001b[1;33m:\u001b[0m\u001b[1;33m\u001b[0m\u001b[1;33m\u001b[0m\u001b[0m\n",
      "\u001b[1;32m~\\AppData\\Local\\Temp/ipykernel_16884/2068922563.py\u001b[0m in \u001b[0;36mgreeting\u001b[1;34m(sentence)\u001b[0m\n\u001b[0;32m      2\u001b[0m      \u001b[1;32mfor\u001b[0m \u001b[0mword\u001b[0m \u001b[1;32min\u001b[0m \u001b[0msentence\u001b[0m\u001b[1;33m.\u001b[0m\u001b[0msplit\u001b[0m\u001b[1;33m(\u001b[0m\u001b[1;33m)\u001b[0m\u001b[1;33m:\u001b[0m\u001b[1;33m\u001b[0m\u001b[1;33m\u001b[0m\u001b[0m\n\u001b[0;32m      3\u001b[0m             \u001b[1;32mif\u001b[0m \u001b[0mword\u001b[0m\u001b[1;33m.\u001b[0m\u001b[0mlower\u001b[0m\u001b[1;33m(\u001b[0m\u001b[1;33m)\u001b[0m \u001b[1;32min\u001b[0m \u001b[0mGREETING_INPUT\u001b[0m\u001b[1;33m:\u001b[0m\u001b[1;33m\u001b[0m\u001b[1;33m\u001b[0m\u001b[0m\n\u001b[1;32m----> 4\u001b[1;33m                 \u001b[1;32mreturn\u001b[0m \u001b[0mrandom\u001b[0m\u001b[1;33m.\u001b[0m\u001b[0mchoice\u001b[0m\u001b[1;33m(\u001b[0m\u001b[0mGREETING_RESPONCE\u001b[0m\u001b[1;33m)\u001b[0m\u001b[1;33m\u001b[0m\u001b[1;33m\u001b[0m\u001b[0m\n\u001b[0m\u001b[0;32m      5\u001b[0m \u001b[1;33m\u001b[0m\u001b[0m\n\u001b[0;32m      6\u001b[0m \u001b[1;33m\u001b[0m\u001b[0m\n",
      "\u001b[1;31mNameError\u001b[0m: name 'GREETING_RESPONCE' is not defined"
     ]
    }
   ],
   "source": [
    "if __name__==\"__main__\":\n",
    "        flag=True\n",
    "        print(\"Hello My name is Sarthak. I will answer your queries\")\n",
    "        while(flag==True):\n",
    "            user_responce=input()\n",
    "            user_responce=user_responce.lower()\n",
    "            if(user_responce!='bye'):\n",
    "                if user_responce=='thanks' or user_responce =='thank you':\n",
    "                    flag==False\n",
    "                    print(\"Sarthak : You'r Welcome\")\n",
    "                else:\n",
    "                    if(greeting(user_responce)!=None):\n",
    "                        print(\"Sarthak : \"+greeting(user_responce))\n",
    "                    else:\n",
    "                        print(\"Sarthak : \",end='')\n",
    "                        print(responce(user_responce))\n",
    "                        sent_tokens.remove(user_responce)\n",
    "                        \n",
    "            else:\n",
    "                flag=False\n",
    "                print(\"Sarthak : Bye! Have a good day\")"
   ]
  },
  {
   "cell_type": "code",
   "execution_count": null,
   "id": "0177bcd4",
   "metadata": {},
   "outputs": [],
   "source": []
  }
 ],
 "metadata": {
  "kernelspec": {
   "display_name": "Python 3 (ipykernel)",
   "language": "python",
   "name": "python3"
  },
  "language_info": {
   "codemirror_mode": {
    "name": "ipython",
    "version": 3
   },
   "file_extension": ".py",
   "mimetype": "text/x-python",
   "name": "python",
   "nbconvert_exporter": "python",
   "pygments_lexer": "ipython3",
   "version": "3.10.0"
  }
 },
 "nbformat": 4,
 "nbformat_minor": 5
}
